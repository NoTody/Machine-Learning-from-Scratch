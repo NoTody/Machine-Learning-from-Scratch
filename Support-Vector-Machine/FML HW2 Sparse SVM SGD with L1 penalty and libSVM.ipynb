{
 "cells": [
  {
   "cell_type": "code",
   "execution_count": 1,
   "metadata": {},
   "outputs": [],
   "source": [
    "import pandas as pd\n",
    "import numpy as np\n",
    "from libsvm.svmutil import *\n",
    "from libsvm.commonutil import *\n",
    "import random\n",
    "from scipy import sparse\n",
    "import matplotlib.pyplot as plt"
   ]
  },
  {
   "cell_type": "code",
   "execution_count": 2,
   "metadata": {},
   "outputs": [],
   "source": [
    "np.random.seed(42)"
   ]
  },
  {
   "cell_type": "code",
   "execution_count": 3,
   "metadata": {},
   "outputs": [],
   "source": [
    "header_list = [\"Sex\", \"Length\", \"Diameter\", \"Height\", \"Whole weight\", \n",
    "               \"Shucked weight\", \"Viscera weight\", \"Shell weight\", \"Rings\"]\n",
    "df = pd.read_csv(\"abalone.data\", names=header_list)"
   ]
  },
  {
   "cell_type": "code",
   "execution_count": 4,
   "metadata": {},
   "outputs": [
    {
     "data": {
      "text/html": [
       "<div>\n",
       "<style scoped>\n",
       "    .dataframe tbody tr th:only-of-type {\n",
       "        vertical-align: middle;\n",
       "    }\n",
       "\n",
       "    .dataframe tbody tr th {\n",
       "        vertical-align: top;\n",
       "    }\n",
       "\n",
       "    .dataframe thead th {\n",
       "        text-align: right;\n",
       "    }\n",
       "</style>\n",
       "<table border=\"1\" class=\"dataframe\">\n",
       "  <thead>\n",
       "    <tr style=\"text-align: right;\">\n",
       "      <th></th>\n",
       "      <th>Sex</th>\n",
       "      <th>Length</th>\n",
       "      <th>Diameter</th>\n",
       "      <th>Height</th>\n",
       "      <th>Whole weight</th>\n",
       "      <th>Shucked weight</th>\n",
       "      <th>Viscera weight</th>\n",
       "      <th>Shell weight</th>\n",
       "      <th>Rings</th>\n",
       "    </tr>\n",
       "  </thead>\n",
       "  <tbody>\n",
       "    <tr>\n",
       "      <th>0</th>\n",
       "      <td>M</td>\n",
       "      <td>0.455</td>\n",
       "      <td>0.365</td>\n",
       "      <td>0.095</td>\n",
       "      <td>0.5140</td>\n",
       "      <td>0.2245</td>\n",
       "      <td>0.1010</td>\n",
       "      <td>0.1500</td>\n",
       "      <td>15</td>\n",
       "    </tr>\n",
       "    <tr>\n",
       "      <th>1</th>\n",
       "      <td>M</td>\n",
       "      <td>0.350</td>\n",
       "      <td>0.265</td>\n",
       "      <td>0.090</td>\n",
       "      <td>0.2255</td>\n",
       "      <td>0.0995</td>\n",
       "      <td>0.0485</td>\n",
       "      <td>0.0700</td>\n",
       "      <td>7</td>\n",
       "    </tr>\n",
       "    <tr>\n",
       "      <th>2</th>\n",
       "      <td>F</td>\n",
       "      <td>0.530</td>\n",
       "      <td>0.420</td>\n",
       "      <td>0.135</td>\n",
       "      <td>0.6770</td>\n",
       "      <td>0.2565</td>\n",
       "      <td>0.1415</td>\n",
       "      <td>0.2100</td>\n",
       "      <td>9</td>\n",
       "    </tr>\n",
       "    <tr>\n",
       "      <th>3</th>\n",
       "      <td>M</td>\n",
       "      <td>0.440</td>\n",
       "      <td>0.365</td>\n",
       "      <td>0.125</td>\n",
       "      <td>0.5160</td>\n",
       "      <td>0.2155</td>\n",
       "      <td>0.1140</td>\n",
       "      <td>0.1550</td>\n",
       "      <td>10</td>\n",
       "    </tr>\n",
       "    <tr>\n",
       "      <th>4</th>\n",
       "      <td>I</td>\n",
       "      <td>0.330</td>\n",
       "      <td>0.255</td>\n",
       "      <td>0.080</td>\n",
       "      <td>0.2050</td>\n",
       "      <td>0.0895</td>\n",
       "      <td>0.0395</td>\n",
       "      <td>0.0550</td>\n",
       "      <td>7</td>\n",
       "    </tr>\n",
       "    <tr>\n",
       "      <th>...</th>\n",
       "      <td>...</td>\n",
       "      <td>...</td>\n",
       "      <td>...</td>\n",
       "      <td>...</td>\n",
       "      <td>...</td>\n",
       "      <td>...</td>\n",
       "      <td>...</td>\n",
       "      <td>...</td>\n",
       "      <td>...</td>\n",
       "    </tr>\n",
       "    <tr>\n",
       "      <th>4172</th>\n",
       "      <td>F</td>\n",
       "      <td>0.565</td>\n",
       "      <td>0.450</td>\n",
       "      <td>0.165</td>\n",
       "      <td>0.8870</td>\n",
       "      <td>0.3700</td>\n",
       "      <td>0.2390</td>\n",
       "      <td>0.2490</td>\n",
       "      <td>11</td>\n",
       "    </tr>\n",
       "    <tr>\n",
       "      <th>4173</th>\n",
       "      <td>M</td>\n",
       "      <td>0.590</td>\n",
       "      <td>0.440</td>\n",
       "      <td>0.135</td>\n",
       "      <td>0.9660</td>\n",
       "      <td>0.4390</td>\n",
       "      <td>0.2145</td>\n",
       "      <td>0.2605</td>\n",
       "      <td>10</td>\n",
       "    </tr>\n",
       "    <tr>\n",
       "      <th>4174</th>\n",
       "      <td>M</td>\n",
       "      <td>0.600</td>\n",
       "      <td>0.475</td>\n",
       "      <td>0.205</td>\n",
       "      <td>1.1760</td>\n",
       "      <td>0.5255</td>\n",
       "      <td>0.2875</td>\n",
       "      <td>0.3080</td>\n",
       "      <td>9</td>\n",
       "    </tr>\n",
       "    <tr>\n",
       "      <th>4175</th>\n",
       "      <td>F</td>\n",
       "      <td>0.625</td>\n",
       "      <td>0.485</td>\n",
       "      <td>0.150</td>\n",
       "      <td>1.0945</td>\n",
       "      <td>0.5310</td>\n",
       "      <td>0.2610</td>\n",
       "      <td>0.2960</td>\n",
       "      <td>10</td>\n",
       "    </tr>\n",
       "    <tr>\n",
       "      <th>4176</th>\n",
       "      <td>M</td>\n",
       "      <td>0.710</td>\n",
       "      <td>0.555</td>\n",
       "      <td>0.195</td>\n",
       "      <td>1.9485</td>\n",
       "      <td>0.9455</td>\n",
       "      <td>0.3765</td>\n",
       "      <td>0.4950</td>\n",
       "      <td>12</td>\n",
       "    </tr>\n",
       "  </tbody>\n",
       "</table>\n",
       "<p>4177 rows × 9 columns</p>\n",
       "</div>"
      ],
      "text/plain": [
       "     Sex  Length  Diameter  Height  Whole weight  Shucked weight  \\\n",
       "0      M   0.455     0.365   0.095        0.5140          0.2245   \n",
       "1      M   0.350     0.265   0.090        0.2255          0.0995   \n",
       "2      F   0.530     0.420   0.135        0.6770          0.2565   \n",
       "3      M   0.440     0.365   0.125        0.5160          0.2155   \n",
       "4      I   0.330     0.255   0.080        0.2050          0.0895   \n",
       "...   ..     ...       ...     ...           ...             ...   \n",
       "4172   F   0.565     0.450   0.165        0.8870          0.3700   \n",
       "4173   M   0.590     0.440   0.135        0.9660          0.4390   \n",
       "4174   M   0.600     0.475   0.205        1.1760          0.5255   \n",
       "4175   F   0.625     0.485   0.150        1.0945          0.5310   \n",
       "4176   M   0.710     0.555   0.195        1.9485          0.9455   \n",
       "\n",
       "      Viscera weight  Shell weight  Rings  \n",
       "0             0.1010        0.1500     15  \n",
       "1             0.0485        0.0700      7  \n",
       "2             0.1415        0.2100      9  \n",
       "3             0.1140        0.1550     10  \n",
       "4             0.0395        0.0550      7  \n",
       "...              ...           ...    ...  \n",
       "4172          0.2390        0.2490     11  \n",
       "4173          0.2145        0.2605     10  \n",
       "4174          0.2875        0.3080      9  \n",
       "4175          0.2610        0.2960     10  \n",
       "4176          0.3765        0.4950     12  \n",
       "\n",
       "[4177 rows x 9 columns]"
      ]
     },
     "execution_count": 4,
     "metadata": {},
     "output_type": "execute_result"
    }
   ],
   "source": [
    "df"
   ]
  },
  {
   "cell_type": "code",
   "execution_count": 5,
   "metadata": {},
   "outputs": [
    {
     "data": {
      "text/plain": [
       "M    1528\n",
       "I    1342\n",
       "F    1307\n",
       "Name: Sex, dtype: int64"
      ]
     },
     "execution_count": 5,
     "metadata": {},
     "output_type": "execute_result"
    }
   ],
   "source": [
    "df[\"Sex\"].value_counts()"
   ]
  },
  {
   "cell_type": "code",
   "execution_count": 6,
   "metadata": {},
   "outputs": [],
   "source": [
    "df[\"Sex\"].replace(['M', 'I', 'F'], [1, 3, 2], inplace=True)"
   ]
  },
  {
   "cell_type": "code",
   "execution_count": 7,
   "metadata": {},
   "outputs": [],
   "source": [
    "df = pd.concat([pd.get_dummies(df['Sex']), df], axis=1)"
   ]
  },
  {
   "cell_type": "code",
   "execution_count": 8,
   "metadata": {},
   "outputs": [],
   "source": [
    "df = df.drop(columns=['Sex'])"
   ]
  },
  {
   "cell_type": "code",
   "execution_count": 9,
   "metadata": {},
   "outputs": [
    {
     "data": {
      "text/html": [
       "<div>\n",
       "<style scoped>\n",
       "    .dataframe tbody tr th:only-of-type {\n",
       "        vertical-align: middle;\n",
       "    }\n",
       "\n",
       "    .dataframe tbody tr th {\n",
       "        vertical-align: top;\n",
       "    }\n",
       "\n",
       "    .dataframe thead th {\n",
       "        text-align: right;\n",
       "    }\n",
       "</style>\n",
       "<table border=\"1\" class=\"dataframe\">\n",
       "  <thead>\n",
       "    <tr style=\"text-align: right;\">\n",
       "      <th></th>\n",
       "      <th>1</th>\n",
       "      <th>2</th>\n",
       "      <th>3</th>\n",
       "      <th>Length</th>\n",
       "      <th>Diameter</th>\n",
       "      <th>Height</th>\n",
       "      <th>Whole weight</th>\n",
       "      <th>Shucked weight</th>\n",
       "      <th>Viscera weight</th>\n",
       "      <th>Shell weight</th>\n",
       "      <th>Rings</th>\n",
       "    </tr>\n",
       "  </thead>\n",
       "  <tbody>\n",
       "    <tr>\n",
       "      <th>0</th>\n",
       "      <td>1</td>\n",
       "      <td>0</td>\n",
       "      <td>0</td>\n",
       "      <td>0.455</td>\n",
       "      <td>0.365</td>\n",
       "      <td>0.095</td>\n",
       "      <td>0.5140</td>\n",
       "      <td>0.2245</td>\n",
       "      <td>0.1010</td>\n",
       "      <td>0.150</td>\n",
       "      <td>15</td>\n",
       "    </tr>\n",
       "    <tr>\n",
       "      <th>1</th>\n",
       "      <td>1</td>\n",
       "      <td>0</td>\n",
       "      <td>0</td>\n",
       "      <td>0.350</td>\n",
       "      <td>0.265</td>\n",
       "      <td>0.090</td>\n",
       "      <td>0.2255</td>\n",
       "      <td>0.0995</td>\n",
       "      <td>0.0485</td>\n",
       "      <td>0.070</td>\n",
       "      <td>7</td>\n",
       "    </tr>\n",
       "    <tr>\n",
       "      <th>2</th>\n",
       "      <td>0</td>\n",
       "      <td>1</td>\n",
       "      <td>0</td>\n",
       "      <td>0.530</td>\n",
       "      <td>0.420</td>\n",
       "      <td>0.135</td>\n",
       "      <td>0.6770</td>\n",
       "      <td>0.2565</td>\n",
       "      <td>0.1415</td>\n",
       "      <td>0.210</td>\n",
       "      <td>9</td>\n",
       "    </tr>\n",
       "    <tr>\n",
       "      <th>3</th>\n",
       "      <td>1</td>\n",
       "      <td>0</td>\n",
       "      <td>0</td>\n",
       "      <td>0.440</td>\n",
       "      <td>0.365</td>\n",
       "      <td>0.125</td>\n",
       "      <td>0.5160</td>\n",
       "      <td>0.2155</td>\n",
       "      <td>0.1140</td>\n",
       "      <td>0.155</td>\n",
       "      <td>10</td>\n",
       "    </tr>\n",
       "    <tr>\n",
       "      <th>4</th>\n",
       "      <td>0</td>\n",
       "      <td>0</td>\n",
       "      <td>1</td>\n",
       "      <td>0.330</td>\n",
       "      <td>0.255</td>\n",
       "      <td>0.080</td>\n",
       "      <td>0.2050</td>\n",
       "      <td>0.0895</td>\n",
       "      <td>0.0395</td>\n",
       "      <td>0.055</td>\n",
       "      <td>7</td>\n",
       "    </tr>\n",
       "  </tbody>\n",
       "</table>\n",
       "</div>"
      ],
      "text/plain": [
       "   1  2  3  Length  Diameter  Height  Whole weight  Shucked weight  \\\n",
       "0  1  0  0   0.455     0.365   0.095        0.5140          0.2245   \n",
       "1  1  0  0   0.350     0.265   0.090        0.2255          0.0995   \n",
       "2  0  1  0   0.530     0.420   0.135        0.6770          0.2565   \n",
       "3  1  0  0   0.440     0.365   0.125        0.5160          0.2155   \n",
       "4  0  0  1   0.330     0.255   0.080        0.2050          0.0895   \n",
       "\n",
       "   Viscera weight  Shell weight  Rings  \n",
       "0          0.1010         0.150     15  \n",
       "1          0.0485         0.070      7  \n",
       "2          0.1415         0.210      9  \n",
       "3          0.1140         0.155     10  \n",
       "4          0.0395         0.055      7  "
      ]
     },
     "execution_count": 9,
     "metadata": {},
     "output_type": "execute_result"
    }
   ],
   "source": [
    "df.head()"
   ]
  },
  {
   "cell_type": "code",
   "execution_count": 10,
   "metadata": {},
   "outputs": [],
   "source": [
    "df['Rings'] = (df['Rings'] >= 9).astype(int)"
   ]
  },
  {
   "cell_type": "code",
   "execution_count": 11,
   "metadata": {},
   "outputs": [
    {
     "data": {
      "text/plain": [
       "1    2770\n",
       "0    1407\n",
       "Name: Rings, dtype: int64"
      ]
     },
     "execution_count": 11,
     "metadata": {},
     "output_type": "execute_result"
    }
   ],
   "source": [
    "df[\"Rings\"].value_counts()"
   ]
  },
  {
   "cell_type": "code",
   "execution_count": 12,
   "metadata": {},
   "outputs": [
    {
     "name": "stdout",
     "output_type": "stream",
     "text": [
      "<class 'pandas.core.frame.DataFrame'>\n",
      "RangeIndex: 4177 entries, 0 to 4176\n",
      "Data columns (total 11 columns):\n",
      " #   Column          Non-Null Count  Dtype  \n",
      "---  ------          --------------  -----  \n",
      " 0   1               4177 non-null   uint8  \n",
      " 1   2               4177 non-null   uint8  \n",
      " 2   3               4177 non-null   uint8  \n",
      " 3   Length          4177 non-null   float64\n",
      " 4   Diameter        4177 non-null   float64\n",
      " 5   Height          4177 non-null   float64\n",
      " 6   Whole weight    4177 non-null   float64\n",
      " 7   Shucked weight  4177 non-null   float64\n",
      " 8   Viscera weight  4177 non-null   float64\n",
      " 9   Shell weight    4177 non-null   float64\n",
      " 10  Rings           4177 non-null   int32  \n",
      "dtypes: float64(7), int32(1), uint8(3)\n",
      "memory usage: 257.1 KB\n"
     ]
    }
   ],
   "source": [
    "df.info()"
   ]
  },
  {
   "cell_type": "code",
   "execution_count": 13,
   "metadata": {},
   "outputs": [],
   "source": [
    "df.to_csv(\"test.txt\", header=False)"
   ]
  },
  {
   "cell_type": "code",
   "execution_count": 14,
   "metadata": {},
   "outputs": [],
   "source": [
    "def csr_scale(x, scale_param):\n",
    "    assert isinstance(x, sparse.csr_matrix)\n",
    "\n",
    "    offset = scale_param['offset']\n",
    "    coef = scale_param['coef']\n",
    "    assert len(coef) == len(offset)\n",
    "\n",
    "    l, n = x.shape\n",
    "\n",
    "    if not n == len(coef):\n",
    "        print(\"WARNING: The dimension of scaling parameters and feature number do not match.\", file=sys.stderr)\n",
    "        coef = resize(coef, n)\n",
    "        offset = resize(offset, n)\n",
    "\n",
    "    # scaled_x = x * diag(coef) + ones(l, 1) * offset'\n",
    "    offset = sparse.csr_matrix(offset.reshape(1, n))\n",
    "    offset = sparse.vstack([offset] * l, format='csr', dtype=x.dtype)\n",
    "    scaled_x = x.dot(sparse.diags(coef, 0, shape=(n, n))) + offset\n",
    "\n",
    "    if scaled_x.getnnz() > x.getnnz():\n",
    "        print(\n",
    "            \"WARNING: original #nonzeros %d\\n\" % x.getnnz() +\n",
    "            \"       > new      #nonzeros %d\\n\" % scaled_x.getnnz() +\n",
    "            \"If feature values are non-negative and sparse, get scale_param by setting lower=0 rather than the default lower=-1.\",\n",
    "            file=sys.stderr)\n",
    "\n",
    "    return scaled_x"
   ]
  },
  {
   "cell_type": "code",
   "execution_count": 15,
   "metadata": {},
   "outputs": [],
   "source": [
    "X_train = np.array(df.iloc[:, :10])[:3133]\n",
    "X_test = np.array(df.iloc[:, :10])[3133:]\n",
    "y_train = np.array(df.iloc[:, 10])[:3133]\n",
    "y_test = np.array(df.iloc[:, 10])[3133:]"
   ]
  },
  {
   "cell_type": "code",
   "execution_count": 16,
   "metadata": {},
   "outputs": [],
   "source": [
    "X_train_sci = sparse.csr_matrix(X_train)\n",
    "X_test_sci = sparse.csr_matrix(X_test)\n",
    "y_train_sci = sparse.csr_matrix(y_train)\n",
    "y_test_sci = sparse.csr_matrix(y_test)"
   ]
  },
  {
   "cell_type": "code",
   "execution_count": 17,
   "metadata": {},
   "outputs": [],
   "source": [
    "# scaling\n",
    "scale_param = csr_find_scale_param(X_train_sci, lower=0)\n",
    "scaled_X_train = csr_scale(X_train_sci, scale_param)\n",
    "scale_param = csr_find_scale_param(X_test_sci, lower=0)\n",
    "scaled_X_test = csr_scale(X_test_sci, scale_param)"
   ]
  },
  {
   "cell_type": "code",
   "execution_count": 18,
   "metadata": {},
   "outputs": [],
   "source": [
    "def param(s=0, t=1, d=1, v=5, c=2):\n",
    "    return f'-s {s} -t {t} -d {d} -v {v} -c {c}'"
   ]
  },
  {
   "cell_type": "markdown",
   "metadata": {},
   "source": [
    "# Q3"
   ]
  },
  {
   "cell_type": "code",
   "execution_count": 19,
   "metadata": {
    "scrolled": false
   },
   "outputs": [
    {
     "name": "stdout",
     "output_type": "stream",
     "text": [
      "Cross Validation Accuracy = 78.3275%\n",
      "Cross Validation Accuracy = 78.3275%\n",
      "Cross Validation Accuracy = 78.3275%\n",
      "Cross Validation Accuracy = 79.2212%\n",
      "Cross Validation Accuracy = 81.9342%\n",
      "Cross Validation Accuracy = 83.3067%\n",
      "Cross Validation Accuracy = 83.3387%\n",
      "Cross Validation Accuracy = 83.5302%\n",
      "Cross Validation Accuracy = 83.4663%\n",
      "Cross Validation Accuracy = 83.6259%\n",
      "Cross Validation Accuracy = 83.6578%\n",
      "\n",
      "d=1:\n"
     ]
    },
    {
     "data": {
      "image/png": "[encoded data removed]",
      "text/plain": [
       "<Figure size 432x288 with 1 Axes>"
      ]
     },
     "metadata": {
      "needs_background": "light"
     },
     "output_type": "display_data"
    },
    {
     "name": "stdout",
     "output_type": "stream",
     "text": [
      "Cross Validation Accuracy = 65.6559%\n",
      "Cross Validation Accuracy = 78.3913%\n",
      "Cross Validation Accuracy = 78.4871%\n",
      "Cross Validation Accuracy = 78.4552%\n",
      "Cross Validation Accuracy = 80.9448%\n",
      "Cross Validation Accuracy = 82.7003%\n",
      "Cross Validation Accuracy = 83.3067%\n",
      "Cross Validation Accuracy = 83.1791%\n",
      "Cross Validation Accuracy = 83.1152%\n",
      "Cross Validation Accuracy = 82.828%\n",
      "Cross Validation Accuracy = 83.0833%\n",
      "\n",
      "d=2:\n"
     ]
    },
    {
     "data": {
      "image/png": "[encoded data removed]",
      "text/plain": [
       "<Figure size 432x288 with 1 Axes>"
      ]
     },
     "metadata": {
      "needs_background": "light"
     },
     "output_type": "display_data"
    },
    {
     "name": "stdout",
     "output_type": "stream",
     "text": [
      "Cross Validation Accuracy = 65.6559%\n",
      "Cross Validation Accuracy = 65.6559%\n",
      "Cross Validation Accuracy = 65.6559%\n",
      "Cross Validation Accuracy = 79.0935%\n",
      "Cross Validation Accuracy = 79.5723%\n",
      "Cross Validation Accuracy = 80.849%\n",
      "Cross Validation Accuracy = 81.9342%\n",
      "Cross Validation Accuracy = 82.4769%\n",
      "Cross Validation Accuracy = 83.0195%\n",
      "Cross Validation Accuracy = 83.0514%\n",
      "Cross Validation Accuracy = 83.0833%\n",
      "\n",
      "d=3:\n"
     ]
    },
    {
     "data": {
      "image/png": "[encoded data removed]",
      "text/plain": [
       "<Figure size 432x288 with 1 Axes>"
      ]
     },
     "metadata": {
      "needs_background": "light"
     },
     "output_type": "display_data"
    },
    {
     "name": "stdout",
     "output_type": "stream",
     "text": [
      "Cross Validation Accuracy = 65.6559%\n",
      "Cross Validation Accuracy = 65.6559%\n",
      "Cross Validation Accuracy = 65.6559%\n",
      "Cross Validation Accuracy = 65.6559%\n",
      "Cross Validation Accuracy = 79.4446%\n",
      "Cross Validation Accuracy = 79.285%\n",
      "Cross Validation Accuracy = 80.9767%\n",
      "Cross Validation Accuracy = 82.0619%\n",
      "Cross Validation Accuracy = 82.1577%\n",
      "Cross Validation Accuracy = 82.7641%\n",
      "Cross Validation Accuracy = 83.2429%\n",
      "\n",
      "d=4:\n"
     ]
    },
    {
     "data": {
      "image/png": "[encoded data removed]",
      "text/plain": [
       "<Figure size 432x288 with 1 Axes>"
      ]
     },
     "metadata": {
      "needs_background": "light"
     },
     "output_type": "display_data"
    },
    {
     "name": "stdout",
     "output_type": "stream",
     "text": [
      "Cross Validation Accuracy = 65.6559%\n",
      "Cross Validation Accuracy = 65.6559%\n",
      "Cross Validation Accuracy = 65.6559%\n",
      "Cross Validation Accuracy = 65.6559%\n",
      "Cross Validation Accuracy = 65.6559%\n",
      "Cross Validation Accuracy = 65.6559%\n",
      "Cross Validation Accuracy = 77.6891%\n",
      "Cross Validation Accuracy = 80.3383%\n",
      "Cross Validation Accuracy = 82.4769%\n",
      "Cross Validation Accuracy = 82.7322%\n",
      "Cross Validation Accuracy = 82.6045%\n",
      "\n",
      "d=5:\n"
     ]
    },
    {
     "data": {
      "image/png": "[encoded data removed]",
      "text/plain": [
       "<Figure size 432x288 with 1 Axes>"
      ]
     },
     "metadata": {
      "needs_background": "light"
     },
     "output_type": "display_data"
    }
   ],
   "source": [
    "# Q3\n",
    "d_lst = [1,2,3,4,5]\n",
    "c_lst = []\n",
    "for i in range(-3, 8):\n",
    "    c_lst.append(pow(3, i))\n",
    "# train\n",
    "for d in d_lst:\n",
    "    err_lst = []\n",
    "    for c in c_lst:\n",
    "        svm=svm_train(y_train.tolist(), scaled_X_train.toarray().tolist(), param(c=c, d=d)) * 0.01\n",
    "        err_lst.append(1-svm)\n",
    "    # plot\n",
    "    print(f'\\nd={d}:')\n",
    "    std = np.std(err_lst)\n",
    "    std_p = err_lst + std\n",
    "    std_m = err_lst - std\n",
    "    plt.plot(c_lst, err_lst)\n",
    "    plt.plot(c_lst, std_p)\n",
    "    plt.plot(c_lst, std_m)\n",
    "    plt.xlabel(\"C\")\n",
    "    plt.ylabel(\"Error\")\n",
    "    plt.title(f\"d={d} error +/- std\")\n",
    "    plt.show()"
   ]
  },
  {
   "cell_type": "code",
   "execution_count": 20,
   "metadata": {},
   "outputs": [],
   "source": [
    "def param_2(s=0, t=1, d=1, c=2):\n",
    "    return f'-s {s} -t {t} -d {d} -c {c}'"
   ]
  },
  {
   "cell_type": "markdown",
   "metadata": {},
   "source": [
    "# Q4"
   ]
  },
  {
   "cell_type": "code",
   "execution_count": 21,
   "metadata": {},
   "outputs": [
    {
     "name": "stdout",
     "output_type": "stream",
     "text": [
      "Cross Validation Accuracy = 83.7855%\n",
      "Accuracy = 77.5862% (810/1044) (classification)\n",
      "Cross Validation Accuracy = 83.0514%\n",
      "Accuracy = 79.5019% (830/1044) (classification)\n",
      "Cross Validation Accuracy = 83.1152%\n",
      "Accuracy = 82.6628% (863/1044) (classification)\n",
      "Cross Validation Accuracy = 82.3492%\n",
      "Accuracy = 83.046% (867/1044) (classification)\n",
      "Cross Validation Accuracy = 82.4769%\n",
      "Accuracy = 84.4828% (882/1044) (classification)\n",
      "[1, 2, 3, 4, 5]\n",
      "[0.16214490903287582, 0.16948611554420678, 0.1688477497606128, 0.17650813916374086, 0.17523140759655287]\n"
     ]
    },
    {
     "data": {
      "image/png": "[encoded data removed]",
      "text/plain": [
       "<Figure size 432x288 with 1 Axes>"
      ]
     },
     "metadata": {
      "needs_background": "light"
     },
     "output_type": "display_data"
    }
   ],
   "source": [
    "# Q4\n",
    "# best pair: d=1, c=3^5\n",
    "d_lst = [1,2,3,4,5]\n",
    "c = pow(3,5)\n",
    "cv_err_lst = []\n",
    "test_err_lst = []\n",
    "for d in d_lst:\n",
    "    svm=svm_train(y_train.tolist(), scaled_X_train.toarray().tolist(), param(c=c, d=d)) * 0.01\n",
    "    cv_err_lst.append(1-svm)\n",
    "    svm = svm_train(y_train.tolist(), scaled_X_train.toarray().tolist(), param_2(c=c, d=d))\n",
    "    test_err = svm_predict(y_test.tolist(), scaled_X_test.toarray().tolist(), svm)[1][0] * 0.01\n",
    "    test_err_lst.append(1 - test_err)\n",
    "# plot\n",
    "print(d_lst)\n",
    "print(cv_err_lst)\n",
    "plt.plot(d_lst, cv_err_lst, label=\"CV error\")\n",
    "plt.plot(d_lst, test_err_lst, label=\"test error\")\n",
    "plt.xlabel(\"d\")\n",
    "plt.ylabel(\"Error\")\n",
    "plt.title(\"error +/- std\")\n",
    "plt.legend()\n",
    "plt.show()"
   ]
  },
  {
   "cell_type": "code",
   "execution_count": 22,
   "metadata": {},
   "outputs": [
    {
     "data": {
      "image/png": "[encoded data removed]",
      "text/plain": [
       "<Figure size 432x288 with 1 Axes>"
      ]
     },
     "metadata": {
      "needs_background": "light"
     },
     "output_type": "display_data"
    }
   ],
   "source": [
    "# it seems like libsvm only output SV information on terminal, so I collected the results for running the code above and plot\n",
    "# the marginal SV and total SV\n",
    "SV = [1209, 1177, 1211, 1289, 1510]\n",
    "BSV = [1198, 1157, 1184, 1272, 1501]\n",
    "MSV = [a - b for a, b in zip(SV, BSV)]\n",
    "# plot\n",
    "plt.plot(d_lst, SV, label=\"total SV\")\n",
    "plt.plot(d_lst, MSV, label=\"marginal SV\")\n",
    "plt.xlabel(\"d\")\n",
    "plt.ylabel(\"number of SV\")\n",
    "plt.title(\"number of SV\")\n",
    "plt.legend()\n",
    "plt.show()"
   ]
  },
  {
   "cell_type": "markdown",
   "metadata": {},
   "source": [
    "# Q5"
   ]
  },
  {
   "cell_type": "code",
   "execution_count": 23,
   "metadata": {},
   "outputs": [
    {
     "name": "stdout",
     "output_type": "stream",
     "text": [
      "Cross Validation Accuracy = 89.2971%\n",
      "Accuracy = 74.9042% (782/1044) (classification)\n",
      "Cross Validation Accuracy = 84.4249%\n",
      "Accuracy = 73.4674% (767/1044) (classification)\n",
      "Cross Validation Accuracy = 83.4398%\n",
      "Accuracy = 72.8927% (761/1044) (classification)\n",
      "Cross Validation Accuracy = 83.5863%\n",
      "Accuracy = 82.2797% (859/1044) (classification)\n",
      "Cross Validation Accuracy = 83.5783%\n",
      "Accuracy = 77.7778% (812/1044) (classification)\n"
     ]
    },
    {
     "data": {
      "image/png": "[encoded data removed]",
      "text/plain": [
       "<Figure size 432x288 with 1 Axes>"
      ]
     },
     "metadata": {
      "needs_background": "light"
     },
     "output_type": "display_data"
    }
   ],
   "source": [
    "# Q5\n",
    "cv_err_lst = []\n",
    "test_err_lst = []\n",
    "train_samples = []\n",
    "train_split = y_train.shape[0] // 5\n",
    "train_split_idx = train_split\n",
    "d=1\n",
    "c=pow(3, 6)\n",
    "\n",
    "for _ in range(5):\n",
    "    if train_split_idx >= y_train.shape[0]:\n",
    "        train_split_idx = y_train.shape[0]\n",
    "    train_samples.append(train_split_idx)\n",
    "    svm = svm_train(y_train[:train_split_idx].tolist(), scaled_X_train.toarray()[:train_split_idx].tolist(), param(c=c, d=d)) * 0.01\n",
    "    cv_err_lst.append(1-svm)\n",
    "    svm = svm_train(y_train[:train_split_idx].tolist(), scaled_X_train.toarray()[:train_split_idx].tolist(), param_2(c=c, d=d))\n",
    "    test_err = svm_predict(y_test.tolist(), scaled_X_test.toarray().tolist(), svm)[1][0] * 0.01\n",
    "    test_err_lst.append(1 - test_err)\n",
    "    train_split_idx += train_split\n",
    "# plot\n",
    "# print(d_lst)\n",
    "# print(cv_err_lst)\n",
    "plt.plot(train_samples, cv_err_lst, label=\"CV error\")\n",
    "plt.plot(train_samples, test_err_lst, label=\"test error\")\n",
    "plt.xlabel(\"training samples\")\n",
    "plt.ylabel(\"Error\")\n",
    "plt.title(\"error +/- std\")\n",
    "plt.legend()\n",
    "plt.show()"
   ]
  },
  {
   "cell_type": "markdown",
   "metadata": {},
   "source": [
    "# Q6"
   ]
  },
  {
   "cell_type": "code",
   "execution_count": 24,
   "metadata": {},
   "outputs": [],
   "source": [
    "# Q6\n",
    "from copy import deepcopy\n",
    "\n",
    "class SVM(object):\n",
    "    def __init__(self, C, kernel='poly', p = 2, max_iter = 100, learning_rate = 1e-3):\n",
    "        self.X_train = np.array([])\n",
    "        self.y_train = np.array([])\n",
    "        self.alpha = np.array([])\n",
    "        self.b = 0\n",
    "        self.C = (float)(C)\n",
    "        self.p = p\n",
    "        self.learning_rate = learning_rate\n",
    "        self.max_iter = max_iter\n",
    "        if kernel == 'poly':\n",
    "            self.kernel_name = kernel\n",
    "            self.kernel = self.polynomial_kernel\n",
    "    \n",
    "    # polynomial kernel computation\n",
    "    def polynomial_kernel(self, X, Y, p=2):\n",
    "        return (np.inner(X, Y)) ** p\n",
    "    \n",
    "    # compute kernel function with given kernel name\n",
    "    def compute_kernel(self, X, Y, kernel):\n",
    "        X_rows, X_cols = X.shape\n",
    "        Y_rows, Y_cols = Y.shape\n",
    "        K = np.zeros((X_rows, Y_rows))\n",
    "        K = kernel(X, Y, self.p)\n",
    "        return K\n",
    "    \n",
    "    def compute_objective(self, X, y):\n",
    "        constrain = y * np.sum(self.alpha * y * (self.compute_kernel(X, X, self.kernel)) + self.b, axis=0).reshape(-1, 1)\n",
    "        # print(constrain.shape)\n",
    "        # constrain = y * np.sum(self.W * y * self.compute_kernel(X, X, self.kernel) + self.b)\n",
    "        grad_map = (constrain < 1).astype(int)\n",
    "        return 1/2 * np.sum(np.absolute(self.alpha)) + self.C * np.sum((1 - constrain) * grad_map)\n",
    "    \n",
    "    def fit(self, X, y):\n",
    "        X_rows, X_cols = X.shape\n",
    "        # reshape\n",
    "        y = y.reshape((X_rows, 1))\n",
    "        \n",
    "        self.X_train = X\n",
    "        self.y_train = deepcopy(y)\n",
    "        self.y_train[self.y_train == 0] = -1\n",
    "        #print(self.y_train)\n",
    "        \n",
    "        #self.W = np.random.rand(X_rows, 1)\n",
    "        self.alpha = np.zeros((X_rows, 1))\n",
    "        iter_count = 0\n",
    "        prev_objective = 10000\n",
    "        \n",
    "        while iter_count < self.max_iter:\n",
    "            constrain = y * np.sum(self.alpha * y * (self.compute_kernel(X, X, self.kernel)) + self.b, axis=0).reshape(-1, 1)\n",
    "            # print(f\"(self.compute_kernel(X, X, self.kernel)): {y * np.sum(y * (self.compute_kernel(X, X, self.kernel)) + self.b, axis=0)}\")\n",
    "            # calculate gradients\n",
    "            grad_map = (constrain < 1).astype(int)\n",
    "            #print(f\"grad_map: {grad_map}\")\n",
    "            unique, counts = np.unique(grad_map, return_counts=True)\n",
    "            #print(np.asarray((unique, counts)).T)\n",
    "            #print(f\"iter: {iter_count}\")\n",
    "            #print(f\"objective value: {prev_objective}\")\n",
    "            grad_alpha_constrain = y * np.sum(y * (self.compute_kernel(X, X, self.kernel)) + self.b, axis=0).reshape(-1, 1)\n",
    "            grad_alpha = 1/2 - (self.C * grad_alpha_constrain * grad_map)\n",
    "            #print(f\"alpha: {self.alpha}\")\n",
    "            grad_b = self.C * np.sum(-y * grad_map)\n",
    "            #print(f\"b: {self.b}\\n\")\n",
    "            # update gradients\n",
    "            self.alpha -= self.learning_rate * grad_alpha\n",
    "            self.b -= self.learning_rate * grad_b\n",
    "            # get current objective\n",
    "            cur_objective = self.compute_objective(X, y)\n",
    "            iter_count += 1;\n",
    "            if cur_objective > prev_objective:\n",
    "                #print(f\"prev_objective: {prev_objective}\")\n",
    "                #print(f\"cur_objective: {cur_objective}\")\n",
    "                break\n",
    "            else:\n",
    "                prev_objective = cur_objective\n",
    "            \n",
    "    def predict_proba(self, X):\n",
    "        K = self.compute_kernel(X_train, X, self.kernel)\n",
    "        y_pred = np.sum(self.alpha * self.y_train * self.kernel(self.X_train, X, p=self.p) + self.b, axis=0).reshape(-1, 1)\n",
    "        return y_pred\n",
    "    \n",
    "    def predict(self, X):\n",
    "        # compute kernel output for X and Support Vectors\n",
    "        #print(self.predict_proba(X))\n",
    "        res = (self.predict_proba(X) > 1).astype(int)\n",
    "        res = np.where(res == 1, 1, 0)\n",
    "        return res"
   ]
  },
  {
   "cell_type": "code",
   "execution_count": 25,
   "metadata": {
    "scrolled": true
   },
   "outputs": [
    {
     "name": "stdout",
     "output_type": "stream",
     "text": [
      "\n",
      "d: 1, c: 0.003, train_error: 0.29475788621866755, test_error: 0.2895307539834192\n",
      "d: 1, c: 0.002, train_error: 0.2784782974789504, test_error: 0.28059627721642183\n",
      "d: 1, c: 0.001, train_error: 0.24185882084035412, test_error: 0.24513556618819776\n",
      "d: 1, c: 0.02, train_error: 0.3238079108742926, test_error: 0.32494000030573095\n",
      "d: 1, c: 0.01, train_error: 0.3163857241224969, test_error: 0.3153706223153003\n",
      "d: 1, c: 0.2, train_error: 0.34336098349999095, test_error: 0.3434407977538968\n",
      "d: 1, c: 0.1, train_error: 0.33474166985274434, test_error: 0.33450937829616156\n",
      "d: 1, c: 1, train_error: 0.3434407919596877, test_error: 0.3434407977538968\n",
      "d: 1, c: 10, train_error: 0.3434407919596877, test_error: 0.3434407977538968\n",
      "d: 1, c: 20, train_error: 0.3434407919596877, test_error: 0.3434407977538968\n",
      "d: 1, c: 50, train_error: 0.3434407919596877, test_error: 0.3434407977538968\n",
      "\n",
      "d: 2, c: 0.003, train_error: 0.21057925279289816, test_error: 0.21322286255866213\n",
      "d: 2, c: 0.002, train_error: 0.19302416123919267, test_error: 0.19532639324130832\n",
      "d: 2, c: 0.001, train_error: 0.19965131948182757, test_error: 0.20459054985707079\n",
      "d: 2, c: 0.02, train_error: 0.3117568334600867, test_error: 0.30994797478738956\n",
      "d: 2, c: 0.01, train_error: 0.2956364477945392, test_error: 0.2984626829926981\n",
      "d: 2, c: 0.2, train_error: 0.34336098349999095, test_error: 0.3434407977538968\n",
      "d: 2, c: 0.1, train_error: 0.33394358525577705, test_error: 0.33131958563268465\n",
      "d: 2, c: 1, train_error: 0.3434407919596877, test_error: 0.3434407977538968\n",
      "d: 2, c: 10, train_error: 0.3434407919596877, test_error: 0.3434407977538968\n",
      "d: 2, c: 20, train_error: 0.3434407919596877, test_error: 0.3434407977538968\n",
      "d: 2, c: 50, train_error: 0.3434407919596877, test_error: 0.3434407977538968\n",
      "\n",
      "d: 3, c: 0.003, train_error: 0.19557984650162308, test_error: 0.19215443488186046\n",
      "d: 3, c: 0.002, train_error: 0.18919526522862878, test_error: 0.18990833167729082\n",
      "d: 3, c: 0.001, train_error: 0.19557876413719158, test_error: 0.19564944892000552\n",
      "d: 3, c: 0.02, train_error: 0.2701827062994565, test_error: 0.2697295809957656\n",
      "d: 3, c: 0.01, train_error: 0.25542186586257604, test_error: 0.2508945177349415\n",
      "d: 3, c: 0.2, train_error: 0.3434407919596877, test_error: 0.3434407977538968\n",
      "d: 3, c: 0.1, train_error: 0.3357791798288018, test_error: 0.33450937829616156\n",
      "d: 3, c: 1, train_error: 0.3434407919596877, test_error: 0.3434407977538968\n",
      "d: 3, c: 10, train_error: 0.3434407919596877, test_error: 0.3434407977538968\n",
      "d: 3, c: 20, train_error: 0.3434407919596877, test_error: 0.3434407977538968\n",
      "d: 3, c: 50, train_error: 0.3434407919596877, test_error: 0.3434407977538968\n",
      "\n",
      "d: 4, c: 0.003, train_error: 0.1842478729151353, test_error: 0.18799547518229207\n",
      "d: 4, c: 0.002, train_error: 0.17962031929114045, test_error: 0.18097283580720608\n",
      "d: 4, c: 0.001, train_error: 0.19494099681307342, test_error: 0.19502066231509646\n",
      "d: 4, c: 0.02, train_error: 0.2657174118374378, test_error: 0.26716653673102303\n",
      "d: 4, c: 0.01, train_error: 0.2286130040992961, test_error: 0.22885896122822302\n",
      "d: 4, c: 0.2, train_error: 0.3434407919596877, test_error: 0.3434407977538968\n",
      "d: 4, c: 0.1, train_error: 0.339530177434548, test_error: 0.3396130465577245\n",
      "d: 4, c: 1, train_error: 0.3434407919596877, test_error: 0.3434407977538968\n",
      "d: 4, c: 10, train_error: 0.3434407919596877, test_error: 0.3434407977538968\n",
      "d: 4, c: 20, train_error: 0.3434407919596877, test_error: 0.3434407977538968\n",
      "d: 4, c: 50, train_error: 0.3434407919596877, test_error: 0.3434407977538968\n",
      "\n",
      "d: 5, c: 0.003, train_error: 0.20483533576058863, test_error: 0.20556328375396812\n",
      "d: 5, c: 0.002, train_error: 0.19214770072368795, test_error: 0.1915088330760098\n",
      "d: 5, c: 0.001, train_error: 0.1706037778975453, test_error: 0.17044906777545082\n",
      "d: 5, c: 0.02, train_error: 0.28838008564049394, test_error: 0.2895078241639533\n",
      "d: 5, c: 0.01, train_error: 0.2535894547143497, test_error: 0.2556705443539141\n",
      "d: 5, c: 0.2, train_error: 0.3434407919596877, test_error: 0.3434407977538968\n",
      "d: 5, c: 0.1, train_error: 0.34304174966120404, test_error: 0.3431218184875491\n",
      "d: 5, c: 1, train_error: 0.3434407919596877, test_error: 0.3434407977538968\n",
      "d: 5, c: 10, train_error: 0.3434407919596877, test_error: 0.3434407977538968\n",
      "d: 5, c: 20, train_error: 0.3434407919596877, test_error: 0.3434407977538968\n",
      "d: 5, c: 50, train_error: 0.3434407919596877, test_error: 0.3434407977538968\n"
     ]
    }
   ],
   "source": [
    "# search for best C\n",
    "from sklearn.model_selection import StratifiedKFold\n",
    "from sklearn.metrics import accuracy_score\n",
    "from statistics import mean\n",
    "\n",
    "d_lst = [1,2,3,4,5]\n",
    "c_lst = [3e-3, 2e-3, 1e-3, 2e-2, 1e-2, 2e-1, 1e-1, 1, 10, 20, 50]\n",
    "# c_lst = []\n",
    "# for i in range(-3, 8):\n",
    "#     c_lst.append(pow(3, i))\n",
    "kf = StratifiedKFold(n_splits=5, shuffle=True)\n",
    "\n",
    "for d in d_lst:\n",
    "    print()\n",
    "    for c in c_lst:\n",
    "        svm = SVM(C = c, kernel='poly', p = d, max_iter = 100, learning_rate = 1e-6)\n",
    "        train_error_lst = []\n",
    "        test_error_lst = []\n",
    "        X = scaled_X_train.toarray()\n",
    "        for train_index, test_index in kf.split(X, y_train):\n",
    "            X_train, X_test = X[train_index], X[test_index]\n",
    "            #X_train, X_test = X, scaled_X_test.toarray()\n",
    "            y_train_cv, y_test_cv = y_train[train_index], y_train[test_index]\n",
    "            #y_train_cv, y_test_cv = y_train, y_test\n",
    "            svm.fit(X_train, y_train_cv)\n",
    "            y_pred_test = svm.predict(X_test).flatten()\n",
    "            y_pred_train = svm.predict(X_train).flatten()\n",
    "            test_error = 1 - accuracy_score(y_pred_test, y_test_cv)\n",
    "            train_error = 1 - accuracy_score(y_pred_train, y_train_cv)\n",
    "            train_error_lst.append(train_error)\n",
    "            test_error_lst.append(test_error)\n",
    "        print(f\"d: {d}, c: {c}, train_error: {mean(train_error_lst)}, test_error: {mean(test_error_lst)}\")"
   ]
  },
  {
   "cell_type": "code",
   "execution_count": 26,
   "metadata": {
    "scrolled": true
   },
   "outputs": [
    {
     "name": "stdout",
     "output_type": "stream",
     "text": [
      "d: 1, c: 0.001, train_error: 0.24297645761858816, test_error: 0.2492853539599798\n",
      "\n",
      "d: 2, c: 0.001, train_error: 0.20260362763989478, test_error: 0.1975684200335285\n",
      "\n",
      "d: 3, c: 0.001, train_error: 0.19621732731750938, test_error: 0.19501250949039756\n",
      "\n",
      "d: 4, c: 0.001, train_error: 0.1943819555842205, test_error: 0.1946935302240498\n",
      "\n",
      "d: 5, c: 0.001, train_error: 0.17092234321712454, test_error: 0.16980601372731857\n",
      "\n"
     ]
    }
   ],
   "source": [
    "# plot five-fold cross-validation errors\n",
    "# best C = 0.001\n",
    "c = 0.001\n",
    "d_lst = [1,2,3,4,5]\n",
    "\n",
    "kf = StratifiedKFold(n_splits=5, shuffle=True)\n",
    "mean_train_error_lst = []\n",
    "mean_test_error_lst = []\n",
    "for d in d_lst:\n",
    "    train_error_lst = []\n",
    "    test_error_lst = []\n",
    "    svm = SVM(C = c, kernel='poly', p = d, max_iter = 100, learning_rate = 1e-6)\n",
    "    X = scaled_X_train.toarray()\n",
    "    for train_index, test_index in kf.split(X, y_train):\n",
    "        X_train, X_test = X[train_index], X[test_index]\n",
    "        #X_train, X_test = X, scaled_X_test.toarray()\n",
    "        y_train_cv, y_test_cv = y_train[train_index], y_train[test_index]\n",
    "        #y_train_cv, y_test_cv = y_train, y_test\n",
    "        svm.fit(X_train, y_train_cv)\n",
    "        y_pred_test = svm.predict(X_test).flatten()\n",
    "        y_pred_train = svm.predict(X_train).flatten()\n",
    "        test_error = 1 - accuracy_score(y_pred_test, y_test_cv)\n",
    "        train_error = 1 - accuracy_score(y_pred_train, y_train_cv)\n",
    "        train_error_lst.append(train_error)\n",
    "        test_error_lst.append(test_error)\n",
    "    mean_train_error_lst.append(mean(train_error_lst))\n",
    "    mean_test_error_lst.append(mean(test_error_lst))\n",
    "    print(f\"d: {d}, c: {c}, train_error: {mean(train_error_lst)}, test_error: {mean(test_error_lst)}\")\n",
    "    print()"
   ]
  },
  {
   "cell_type": "code",
   "execution_count": 27,
   "metadata": {},
   "outputs": [
    {
     "data": {
      "image/png": "[encoded data removed]",
      "text/plain": [
       "<Figure size 432x288 with 1 Axes>"
      ]
     },
     "metadata": {
      "needs_background": "light"
     },
     "output_type": "display_data"
    }
   ],
   "source": [
    "plt.plot(d_lst, mean_train_error_lst, label=\"train error\")\n",
    "plt.plot(d_lst, mean_test_error_lst, label=\"test error\")\n",
    "plt.xlabel(\"training samples\")\n",
    "plt.ylabel(\"Error\")\n",
    "plt.title(\"CV errors with C=0.001\")\n",
    "plt.legend()\n",
    "plt.show()"
   ]
  },
  {
   "cell_type": "code",
   "execution_count": null,
   "metadata": {},
   "outputs": [],
   "source": []
  }
 ],
 "metadata": {
  "kernelspec": {
   "display_name": "Python 3",
   "language": "python",
   "name": "python3"
  },
  "language_info": {
   "codemirror_mode": {
    "name": "ipython",
    "version": 3
   },
   "file_extension": ".py",
   "mimetype": "text/x-python",
   "name": "python",
   "nbconvert_exporter": "python",
   "pygments_lexer": "ipython3",
   "version": "3.7.6"
  }
 },
 "nbformat": 4,
 "nbformat_minor": 4
}
